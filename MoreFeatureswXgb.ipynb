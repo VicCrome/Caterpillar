{
 "metadata": {
  "name": "",
  "signature": "sha256:e70e7581e7c9d5bdd61126a9d38dfcb9995acbcebdb58de0eb5ae81e57e92e3c"
 },
 "nbformat": 3,
 "nbformat_minor": 0,
 "worksheets": [
  {
   "cells": [
    {
     "cell_type": "heading",
     "level": 1,
     "metadata": {},
     "source": [
      "Working on increasing feature set, turned component id into a categorical feature.  Long processing time, adds .02 to accuracy (not keeping up with the leaderboard!)"
     ]
    },
    {
     "cell_type": "code",
     "collapsed": false,
     "input": [
      "import os\n",
      "import pandas as pd\n",
      "import numpy as np\n",
      "from sklearn import preprocessing, ensemble, cross_validation, grid_search\n",
      "from sklearn.ensemble import RandomForestRegressor\n",
      "from sklearn.grid_search import GridSearchCV\n",
      "import xgboost as xgb"
     ],
     "language": "python",
     "metadata": {},
     "outputs": [],
     "prompt_number": 20
    },
    {
     "cell_type": "code",
     "collapsed": false,
     "input": [
      "print os.listdir('.')\n",
      "directory = os.path.join(os.getcwd(),'competition_data')\n",
      "filename = 'train_set.csv'\n",
      "path = os.path.join(directory,filename)\n",
      "print path"
     ],
     "language": "python",
     "metadata": {},
     "outputs": [
      {
       "output_type": "stream",
       "stream": "stdout",
       "text": [
        "['.ipynb_checkpoints', 'benchmark.csv', 'competition_data', 'Feat2OheXgb.ipynb', 'Feat2wXGB.ipynb', 'Feat3wXGB.ipynb', 'MoreFeatures.ipynb', 'MoreFeatures2.ipynb', 'MoreFeatureswXgb.ipynb', 'Prelim.ipynb']\n",
        "C:\\Users\\Victor\\Desktop\\Kaggle\\Caterpillar\\competition_data\\train_set.csv\n"
       ]
      }
     ],
     "prompt_number": 2
    },
    {
     "cell_type": "code",
     "collapsed": false,
     "input": [
      "train = pd.read_csv(os.path.join(directory,'train_set.csv'), parse_dates=[2,])\n",
      "test = pd.read_csv(os.path.join(directory,'test_set.csv'), parse_dates=[3,])"
     ],
     "language": "python",
     "metadata": {},
     "outputs": [],
     "prompt_number": 3
    },
    {
     "cell_type": "code",
     "collapsed": false,
     "input": [
      "tubes = pd.read_csv(os.path.join(directory,'tube.csv'))\n",
      "\n",
      "train = pd.merge(train,tubes,on='tube_assembly_id',how='inner')\n",
      "test = pd.merge(test,tubes,on='tube_assembly_id',how='inner')\n",
      "\n",
      "train['material_id'].fillna('SP-9999',inplace=True)\n",
      "test['material_id'].fillna('SP-9999',inplace=True)\n"
     ],
     "language": "python",
     "metadata": {},
     "outputs": [],
     "prompt_number": 4
    },
    {
     "cell_type": "heading",
     "level": 1,
     "metadata": {},
     "source": [
      "Featurizing Bill of Materials "
     ]
    },
    {
     "cell_type": "code",
     "collapsed": false,
     "input": [
      "materials = pd.read_csv(os.path.join(directory,'bill_of_materials_categorized.csv'))"
     ],
     "language": "python",
     "metadata": {},
     "outputs": [],
     "prompt_number": 5
    },
    {
     "cell_type": "code",
     "collapsed": false,
     "input": [
      "materials.head()"
     ],
     "language": "python",
     "metadata": {},
     "outputs": [
      {
       "html": [
        "<div style=\"max-height:1000px;max-width:1500px;overflow:auto;\">\n",
        "<table border=\"1\" class=\"dataframe\">\n",
        "  <thead>\n",
        "    <tr style=\"text-align: right;\">\n",
        "      <th></th>\n",
        "      <th>tube_assembly_id</th>\n",
        "      <th>component_id_1</th>\n",
        "      <th>quantity_1</th>\n",
        "    </tr>\n",
        "  </thead>\n",
        "  <tbody>\n",
        "    <tr>\n",
        "      <th>0</th>\n",
        "      <td> TA-00001</td>\n",
        "      <td> C-1622</td>\n",
        "      <td> 2</td>\n",
        "    </tr>\n",
        "    <tr>\n",
        "      <th>1</th>\n",
        "      <td> TA-00002</td>\n",
        "      <td> C-1312</td>\n",
        "      <td> 2</td>\n",
        "    </tr>\n",
        "    <tr>\n",
        "      <th>2</th>\n",
        "      <td> TA-00003</td>\n",
        "      <td> C-1312</td>\n",
        "      <td> 2</td>\n",
        "    </tr>\n",
        "    <tr>\n",
        "      <th>3</th>\n",
        "      <td> TA-00004</td>\n",
        "      <td> C-1312</td>\n",
        "      <td> 2</td>\n",
        "    </tr>\n",
        "    <tr>\n",
        "      <th>4</th>\n",
        "      <td> TA-00005</td>\n",
        "      <td> C-1624</td>\n",
        "      <td> 1</td>\n",
        "    </tr>\n",
        "  </tbody>\n",
        "</table>\n",
        "</div>"
       ],
       "metadata": {},
       "output_type": "pyout",
       "prompt_number": 6,
       "text": [
        "  tube_assembly_id component_id_1  quantity_1\n",
        "0         TA-00001         C-1622           2\n",
        "1         TA-00002         C-1312           2\n",
        "2         TA-00003         C-1312           2\n",
        "3         TA-00004         C-1312           2\n",
        "4         TA-00005         C-1624           1"
       ]
      }
     ],
     "prompt_number": 6
    },
    {
     "cell_type": "code",
     "collapsed": false,
     "input": [
      "materialsTable = pd.pivot_table(materials,values='quantity_1',index='tube_assembly_id',columns='component_id_1',aggfunc=np.sum, fill_value=0)"
     ],
     "language": "python",
     "metadata": {},
     "outputs": [],
     "prompt_number": 7
    },
    {
     "cell_type": "code",
     "collapsed": false,
     "input": [
      "materialsTable.index"
     ],
     "language": "python",
     "metadata": {},
     "outputs": [
      {
       "metadata": {},
       "output_type": "pyout",
       "prompt_number": 8,
       "text": [
        "Index([u'TA-00001', u'TA-00002', u'TA-00003', u'TA-00004', u'TA-00005', u'TA-00006', u'TA-00007', u'TA-00008', u'TA-00009', u'TA-00010', u'TA-00011', u'TA-00012', u'TA-00013', u'TA-00014', u'TA-00015', u'TA-00016', u'TA-00017', u'TA-00018', u'TA-00020', u'TA-00021', u'TA-00022', u'TA-00023', u'TA-00024', u'TA-00025', u'TA-00026', u'TA-00027', u'TA-00028', u'TA-00029', u'TA-00030', u'TA-00031', u'TA-00032', u'TA-00033', u'TA-00034', u'TA-00035', u'TA-00036', u'TA-00037', u'TA-00038', u'TA-00039', u'TA-00040', u'TA-00041', u'TA-00042', u'TA-00043', u'TA-00045', u'TA-00046', u'TA-00047', u'TA-00048', u'TA-00049', u'TA-00050', u'TA-00051', u'TA-00052', u'TA-00053', u'TA-00054', u'TA-00055', u'TA-00056', u'TA-00057', u'TA-00058', u'TA-00059', u'TA-00060', u'TA-00061', u'TA-00062', u'TA-00063', u'TA-00065', u'TA-00066', u'TA-00067', u'TA-00068', u'TA-00069', u'TA-00071', u'TA-00072', u'TA-00073', u'TA-00075', u'TA-00076', u'TA-00077', u'TA-00078', u'TA-00079', u'TA-00080', u'TA-00081', u'TA-00082', u'TA-00083', u'TA-00084', u'TA-00085', u'TA-00086', u'TA-00087', u'TA-00088', u'TA-00089', u'TA-00090', u'TA-00091', u'TA-00092', u'TA-00093', u'TA-00094', u'TA-00095', u'TA-00096', u'TA-00097', u'TA-00098', u'TA-00099', u'TA-00100', u'TA-00102', u'TA-00103', u'TA-00104', u'TA-00105', u'TA-00107', ...], dtype='object')"
       ]
      }
     ],
     "prompt_number": 8
    },
    {
     "cell_type": "code",
     "collapsed": false,
     "input": [
      "train = pd.merge(train,materialsTable,left_on='tube_assembly_id', right_index=True,how='left')\n",
      "test = pd.merge(test,materialsTable,left_on='tube_assembly_id', right_index=True,how='left')"
     ],
     "language": "python",
     "metadata": {},
     "outputs": [],
     "prompt_number": 9
    },
    {
     "cell_type": "code",
     "collapsed": false,
     "input": [
      "#print train.columns\n",
      "train.fillna(0,inplace=True)\n",
      "test.fillna(0,inplace=True)\n",
      "#print train[train['C-0018'].isnull()]\n"
     ],
     "language": "python",
     "metadata": {},
     "outputs": [],
     "prompt_number": 10
    },
    {
     "cell_type": "heading",
     "level": 1,
     "metadata": {},
     "source": [
      "End Bill of Materials stuff"
     ]
    },
    {
     "cell_type": "code",
     "collapsed": false,
     "input": [
      "# drop useless columns and create labels\n",
      "idx = test.id.values.astype(int)\n",
      "test = test.drop(['id', 'tube_assembly_id', 'quote_date'], axis = 1)\n",
      "labels = train.cost.values\n",
      "train = train.drop(['quote_date', 'cost', 'tube_assembly_id'], axis = 1)"
     ],
     "language": "python",
     "metadata": {},
     "outputs": [],
     "prompt_number": 11
    },
    {
     "cell_type": "code",
     "collapsed": false,
     "input": [
      "# convert data to numpy array\n",
      "train = np.array(train)\n",
      "test = np.array(test)"
     ],
     "language": "python",
     "metadata": {},
     "outputs": [],
     "prompt_number": 12
    },
    {
     "cell_type": "code",
     "collapsed": false,
     "input": [
      "# label encode the categorical variables\n",
      "rangeset = train.shape[1]\n",
      "for i in range(rangeset):\n",
      "    #print(i)\n",
      "    if i in [0,3,5, 11,12,13,14,15,16]:\n",
      "        lbl = preprocessing.LabelEncoder()\n",
      "        lbl.fit(list(train[:,i]) + list(test[:,i]))\n",
      "        train[:,i] = lbl.transform(train[:,i])\n",
      "        test[:,i] = lbl.transform(test[:,i])"
     ],
     "language": "python",
     "metadata": {},
     "outputs": [],
     "prompt_number": 13
    },
    {
     "cell_type": "code",
     "collapsed": false,
     "input": [
      "print(train[0:5,:])\n",
      "\n",
      "print(test[0:5,:])"
     ],
     "language": "python",
     "metadata": {},
     "outputs": [
      {
       "output_type": "stream",
       "stream": "stdout",
       "text": [
        "[[41L 0L 0L ..., 0.0 0.0 0.0]\n",
        " [41L 0L 0L ..., 0.0 0.0 0.0]\n",
        " [41L 0L 0L ..., 0.0 0.0 0.0]\n",
        " [41L 0L 0L ..., 0.0 0.0 0.0]\n",
        " [41L 0L 0L ..., 0.0 0.0 0.0]]\n",
        "[[41L 0L 0L ..., 0.0 0.0 0.0]\n",
        " [41L 0L 0L ..., 0.0 0.0 0.0]\n",
        " [41L 0L 0L ..., 0.0 0.0 0.0]\n",
        " [41L 0L 0L ..., 0.0 0.0 0.0]\n",
        " [41L 0L 0L ..., 0.0 0.0 0.0]]\n"
       ]
      }
     ],
     "prompt_number": 14
    },
    {
     "cell_type": "code",
     "collapsed": false,
     "input": [
      "# object array to float\n",
      "train = train.astype(float)\n",
      "test = test.astype(float)\n",
      "\n",
      "# i like to train on log(1+x) for RMSLE ;) \n",
      "# The choice is yours :)\n",
      "label_log = np.log1p(labels)"
     ],
     "language": "python",
     "metadata": {},
     "outputs": [],
     "prompt_number": 15
    },
    {
     "cell_type": "code",
     "collapsed": false,
     "input": [
      "X_train, X_test, y_train, y_test = cross_validation.train_test_split(train, label_log, test_size = 0.2, random_state = 0)"
     ],
     "language": "python",
     "metadata": {},
     "outputs": [],
     "prompt_number": 16
    },
    {
     "cell_type": "code",
     "collapsed": false,
     "input": [
      "#RMSLE error function\n",
      "import math\n",
      "\n",
      "#A function to calculate Root Mean Squared Logarithmic Error (RMSLE)\n",
      "def rmsle(y, y_pred):\n",
      "\tassert len(y) == len(y_pred)\n",
      "\tterms_to_sum = [(math.log(y_pred[i] + 1) - math.log(y[i] + 1)) ** 2.0 for i,pred in enumerate(y_pred)]\n",
      "\treturn (sum(terms_to_sum) * (1.0/len(y))) ** 0.5\n",
      "\n",
      "from sklearn.metrics import make_scorer\n",
      "\n",
      "custom_score = make_scorer(rmsle,False)"
     ],
     "language": "python",
     "metadata": {},
     "outputs": [],
     "prompt_number": 17
    },
    {
     "cell_type": "code",
     "collapsed": false,
     "input": [
      "\"\"\"# try cross validation\n",
      "parameters = {'n_estimators': [1000] }\n",
      "\n",
      "rfr = RandomForestRegressor()\n",
      "\n",
      "model = GridSearchCV(estimator= rfr, param_grid=parameters, scoring= custom_score)\n",
      "#model.fit(X_train, y_train)\n",
      "model.fit(train,label_log)\"\"\""
     ],
     "language": "python",
     "metadata": {},
     "outputs": [
      {
       "metadata": {},
       "output_type": "pyout",
       "prompt_number": 18,
       "text": [
        "\"# try cross validation\\nparameters = {'n_estimators': [1000] }\\n\\nrfr = RandomForestRegressor()\\n\\nmodel = GridSearchCV(estimator= rfr, param_grid=parameters, scoring= custom_score)\\n#model.fit(X_train, y_train)\\nmodel.fit(train,label_log)\""
       ]
      }
     ],
     "prompt_number": 18
    },
    {
     "cell_type": "code",
     "collapsed": false,
     "input": [
      "# xgboost random forest model\n",
      "\n",
      "params = {}\n",
      "params[\"objective\"] = \"reg:linear\"\n",
      "params[\"eta\"] = 0.1\n",
      "params[\"min_child_weight\"] = 5\n",
      "params[\"subsample\"] = 1.0\n",
      "params[\"scale_pos_weight\"] = 1.0\n",
      "params[\"silent\"] = 1\n",
      "params[\"max_depth\"] = 7\n",
      "\n",
      "plst = list(params.items())\n",
      "\n",
      "xgtrain = xgb.DMatrix(X_train, label = y_train)\n",
      "xgtest = xgb.DMatrix(X_test)\n",
      "#xgtrain = xgb.DMatrix(train, label=label_log)\n",
      "#xgtest = xgb.DMatrix(test)\n",
      "\n",
      "num_rounds = 500\n",
      "model = xgb.train(plst, xgtrain, num_rounds)"
     ],
     "language": "python",
     "metadata": {},
     "outputs": [],
     "prompt_number": 24
    },
    {
     "cell_type": "code",
     "collapsed": false,
     "input": [
      "#val_preds = np.expm1(model.predict(X_test))\n",
      "val_preds = np.expm1(model.predict(xgtest))\n",
      "norm_labels = np.expm1(y_test)\n",
      "score_val = rmsle(norm_labels,val_preds)\n",
      "print 'Baseline score is 0.235'\n",
      "print score_val"
     ],
     "language": "python",
     "metadata": {},
     "outputs": [
      {
       "output_type": "stream",
       "stream": "stdout",
       "text": [
        "Baseline score is 0.235\n",
        "0.235151900419\n"
       ]
      }
     ],
     "prompt_number": 26
    },
    {
     "cell_type": "code",
     "collapsed": false,
     "input": [],
     "language": "python",
     "metadata": {},
     "outputs": []
    },
    {
     "cell_type": "code",
     "collapsed": false,
     "input": [
      "preds = np.expm1(model.predict(test))"
     ],
     "language": "python",
     "metadata": {},
     "outputs": [],
     "prompt_number": 19
    },
    {
     "cell_type": "code",
     "collapsed": false,
     "input": [
      "preds = pd.DataFrame({\"id\": idx, \"cost\": preds})"
     ],
     "language": "python",
     "metadata": {},
     "outputs": [],
     "prompt_number": 20
    },
    {
     "cell_type": "code",
     "collapsed": false,
     "input": [
      "preds.to_csv('benchmark.csv', index=False)"
     ],
     "language": "python",
     "metadata": {},
     "outputs": [],
     "prompt_number": 21
    },
    {
     "cell_type": "heading",
     "level": 1,
     "metadata": {},
     "source": [
      "Looking into the data."
     ]
    },
    {
     "cell_type": "markdown",
     "metadata": {},
     "source": [
      "An analysis into the relationships between the different data files:\n",
      "\n",
      "test_set is root\n",
      "\n",
      "*sheets with tube assembly ids*:  \n",
      "bill_of_materials; components for every tube assembly  \n",
      "specs; specifications for every tube assembly  \n",
      "tube; description for every tube, including spec id, size and bend information, end of tube info  \n",
      "\n",
      "\n",
      "\n",
      "*sheets without tube assembly ids with component ids*:\n",
      "* components; component type list summary \n",
      "\n",
      "comp_adaptor;  detailed component specs, adaptor type  \n",
      "comp_boss; detailed component specs, boss type  \n",
      "comp_elbow; detailed component specs, elbow type  \n",
      "comp_float; detailed component specs, float type  \n",
      "comp_hfl; detailed component specs, hfl type  \n",
      "comp_nut; detailed component specs, nut type  \n",
      "comp_other; detailed component specs, other type  \n",
      "comp_sleeve; detailed component specs, sleeve type  \n",
      "comp_straight; detailed component specs, straight type  \n",
      "comp_tee; detailed component specs, tee type  \n",
      "comp_threaded; detailed component specs, threaded type  \n",
      "\n",
      "\n",
      "*sheets without tube assembly ids with other ids*  \n",
      "tube_end_form; end of tube types, yes/no on forming  \n",
      "type_component; component type id with name  \n",
      "type_connection; connection type id (in some components) with name  \n",
      "type_end_form; end form id (in some components) with name  \n",
      "\n",
      "\n",
      "\n"
     ]
    }
   ],
   "metadata": {}
  }
 ]
}