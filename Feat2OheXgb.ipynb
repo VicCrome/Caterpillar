{
 "metadata": {
  "name": "",
  "signature": "sha256:33a790472935bd0520a142bc8eae403dafa5772a7e821c618777de71c752bed5"
 },
 "nbformat": 3,
 "nbformat_minor": 0,
 "worksheets": [
  {
   "cells": [
    {
     "cell_type": "heading",
     "level": 1,
     "metadata": {},
     "source": [
      "Featurizing bill of materials part 2: bring in component specs as multiple columns (and lose ID)"
     ]
    },
    {
     "cell_type": "code",
     "collapsed": false,
     "input": [
      "import os\n",
      "import pandas as pd\n",
      "import numpy as np\n",
      "from sklearn import preprocessing, ensemble, cross_validation, grid_search\n",
      "from sklearn.ensemble import RandomForestRegressor\n",
      "from sklearn.grid_search import GridSearchCV\n",
      "from sklearn import cross_validation\n",
      "import xgboost as xgb"
     ],
     "language": "python",
     "metadata": {},
     "outputs": [],
     "prompt_number": 1
    },
    {
     "cell_type": "code",
     "collapsed": false,
     "input": [
      "print os.listdir('.')\n",
      "directory = os.path.join(os.getcwd(),'competition_data')\n",
      "filename = 'train_set.csv'\n",
      "path = os.path.join(directory,filename)\n",
      "print path"
     ],
     "language": "python",
     "metadata": {},
     "outputs": [
      {
       "output_type": "stream",
       "stream": "stdout",
       "text": [
        "['.ipynb_checkpoints', 'benchmark.csv', 'competition_data', 'Feat2OheXgb.ipynb', 'Feat2wXGB.ipynb', 'Feat3wXGB.ipynb', 'MoreFeatures.ipynb', 'MoreFeatures2.ipynb', 'Prelim.ipynb']\n",
        "C:\\Users\\Victor\\Desktop\\Kaggle\\Caterpillar\\competition_data\\train_set.csv\n"
       ]
      }
     ],
     "prompt_number": 2
    },
    {
     "cell_type": "code",
     "collapsed": false,
     "input": [
      "train = pd.read_csv(os.path.join(directory,'train_set.csv'), parse_dates=[2,])\n",
      "test = pd.read_csv(os.path.join(directory,'test_set.csv'), parse_dates=[3,])"
     ],
     "language": "python",
     "metadata": {},
     "outputs": [],
     "prompt_number": 3
    },
    {
     "cell_type": "code",
     "collapsed": false,
     "input": [
      "tubes = pd.read_csv(os.path.join(directory,'tube.csv'))\n",
      "\n",
      "train = pd.merge(train,tubes,on='tube_assembly_id',how='inner')\n",
      "test = pd.merge(test,tubes,on='tube_assembly_id',how='inner')\n",
      "\n",
      "train['material_id'].fillna('SP-9999',inplace=True)\n",
      "test['material_id'].fillna('SP-9999',inplace=True)\n"
     ],
     "language": "python",
     "metadata": {},
     "outputs": [],
     "prompt_number": 4
    },
    {
     "cell_type": "code",
     "collapsed": false,
     "input": [
      "print train.shape"
     ],
     "language": "python",
     "metadata": {},
     "outputs": [
      {
       "output_type": "stream",
       "stream": "stdout",
       "text": [
        "(30213, 23)\n"
       ]
      }
     ],
     "prompt_number": 5
    },
    {
     "cell_type": "heading",
     "level": 1,
     "metadata": {},
     "source": [
      "Featurizing Bill of Materials "
     ]
    },
    {
     "cell_type": "code",
     "collapsed": false,
     "input": [
      "materials = pd.read_csv(os.path.join(directory,'bill_of_materials_with_labels.csv'))"
     ],
     "language": "python",
     "metadata": {},
     "outputs": [],
     "prompt_number": 6
    },
    {
     "cell_type": "code",
     "collapsed": false,
     "input": [
      "materials.columns"
     ],
     "language": "python",
     "metadata": {},
     "outputs": [
      {
       "metadata": {},
       "output_type": "pyout",
       "prompt_number": 7,
       "text": [
        "Index([u'tube_assembly_id', u'component_id', u'label'], dtype='object')"
       ]
      }
     ],
     "prompt_number": 7
    },
    {
     "cell_type": "code",
     "collapsed": false,
     "input": [
      "comp_filenames = ['comp_adaptor.csv',\n",
      "              'comp_boss.csv',\n",
      "              'comp_elbow.csv',\n",
      "              'comp_float.csv',\n",
      "              'comp_hfl.csv',\n",
      "              'comp_nut.csv',\n",
      "              'comp_other.csv',\n",
      "              'comp_sleeve.csv',\n",
      "              'comp_straight.csv',\n",
      "              'comp_tee.csv',\n",
      "              'comp_threaded.csv']\n",
      "\n",
      "comp_files = [pd.read_csv(os.path.join(directory,filename)) for filename in comp_filenames]"
     ],
     "language": "python",
     "metadata": {},
     "outputs": [],
     "prompt_number": 8
    },
    {
     "cell_type": "code",
     "collapsed": false,
     "input": [
      "print comp_files[1].shape\n",
      "testing1 = np.array(comp_files[1])\n",
      "print testing1.shape"
     ],
     "language": "python",
     "metadata": {},
     "outputs": [
      {
       "output_type": "stream",
       "stream": "stdout",
       "text": [
        "(147, 15)\n",
        "(147L, 15L)\n"
       ]
      }
     ],
     "prompt_number": 9
    },
    {
     "cell_type": "code",
     "collapsed": false,
     "input": [
      "#try onehotencoding at spreadsheet input level (don't have dimensional interaction problem)\n",
      "for ind in range(len(comp_files)):\n",
      "    testFile = comp_files[ind]\n",
      "    testFile.fillna(0,inplace=True)\n",
      "    testFile = np.array(testFile)\n",
      "    rangeset = testFile.shape[1]\n",
      "    for i in range(3,rangeset):\n",
      "        #if type(sorted(train[:,i],reverse=True)[1]) is str:\n",
      "        if any(type(x) is str for x in testFile[:,i]):\n",
      "            testFile[:,i][testFile[:,i]==0] = 'zzz'\n",
      "            lbl = preprocessing.LabelEncoder()\n",
      "            lbl.fit(list(testFile[:,i]))\n",
      "            testFile[:,i] = lbl.transform(testFile[:,i])\n",
      "            encoder = preprocessing.OneHotEncoder()\n",
      "            encoder.fit([testFile[:,i]])\n",
      "            testFile[:,i] = encoder.transform([testFile[:,i]]).toarray()\n",
      "    testFile = pd.DataFrame(testFile)\n",
      "    comp_files[ind]=testFile.rename(columns = {0:'component_id'})"
     ],
     "language": "python",
     "metadata": {},
     "outputs": [],
     "prompt_number": 11
    },
    {
     "cell_type": "code",
     "collapsed": false,
     "input": [
      "print comp_files[1].head()"
     ],
     "language": "python",
     "metadata": {},
     "outputs": [
      {
       "output_type": "stream",
       "stream": "stdout",
       "text": [
        "  component_id       1     2  3  4  5     6  7  8  9  10  11 12 13     14\n",
        "0       C-0008  CP-018  Boss  1  1  1    17  0  0  1  22   0  1  1  0.032\n",
        "1       C-0009  CP-018  Boss  1  1  1    13  0  0  1  25   0  1  1  0.033\n",
        "2       C-0020  CP-018  Boss  1  1  1  28.4  0  0  1  35   0  1  1   0.07\n",
        "3       C-0054  CP-018  Boss  1  1  1  27.1  0  0  1   0   0  1  1   0.18\n",
        "4       C-0071  CP-018  Boss  1  1  1    20  0  0  1  30  23  1  1   0.08\n"
       ]
      }
     ],
     "prompt_number": 12
    },
    {
     "cell_type": "code",
     "collapsed": false,
     "input": [
      "for i in range(1,7):\n",
      "    #filter by instances\n",
      "    filtered_materials = materials[materials['label']==i].drop('label',1)\n",
      "    for comp_file in comp_files:\n",
      "        #join by component type files\n",
      "        mat_comp = pd.merge(filtered_materials,comp_file,on='component_id', how='inner')\n",
      "        #join onto train and test sets\n",
      "        if mat_comp.shape[0]!=0:\n",
      "            train = pd.merge(train,mat_comp,on='tube_assembly_id', how='left')\n",
      "            test = pd.merge(test,mat_comp,on='tube_assembly_id', how='left')\n",
      "        "
     ],
     "language": "python",
     "metadata": {},
     "outputs": [],
     "prompt_number": 13
    },
    {
     "cell_type": "code",
     "collapsed": false,
     "input": [
      "print train.shape\n",
      "print test.shape"
     ],
     "language": "python",
     "metadata": {},
     "outputs": [
      {
       "output_type": "stream",
       "stream": "stdout",
       "text": [
        "(30213, 440)\n",
        "(30235, 440)\n"
       ]
      }
     ],
     "prompt_number": 14
    },
    {
     "cell_type": "code",
     "collapsed": false,
     "input": [
      "train.fillna(0,inplace=True)\n",
      "test.fillna(0,inplace=True)"
     ],
     "language": "python",
     "metadata": {},
     "outputs": [],
     "prompt_number": 15
    },
    {
     "cell_type": "heading",
     "level": 1,
     "metadata": {},
     "source": [
      "End Bill of Materials stuff"
     ]
    },
    {
     "cell_type": "code",
     "collapsed": false,
     "input": [
      "# drop useless columns and create labels\n",
      "idx = test.id.values.astype(int)\n",
      "test = test.drop(['id', 'tube_assembly_id', 'quote_date'], axis = 1)\n",
      "labels = train.cost.values\n",
      "train = train.drop(['quote_date', 'cost', 'tube_assembly_id'], axis = 1)"
     ],
     "language": "python",
     "metadata": {},
     "outputs": [],
     "prompt_number": 16
    },
    {
     "cell_type": "code",
     "collapsed": false,
     "input": [
      "# convert data to numpy array\n",
      "train = np.array(train)\n",
      "test = np.array(test)"
     ],
     "language": "python",
     "metadata": {},
     "outputs": [],
     "prompt_number": 17
    },
    {
     "cell_type": "code",
     "collapsed": false,
     "input": [
      "[list(train[:,1]),list(test[:,1])]\n",
      "print len(train[:,1])\n",
      "print len(test[:,1])"
     ],
     "language": "python",
     "metadata": {},
     "outputs": [
      {
       "output_type": "stream",
       "stream": "stdout",
       "text": [
        "30213\n",
        "30235\n"
       ]
      }
     ],
     "prompt_number": 18
    },
    {
     "cell_type": "code",
     "collapsed": false,
     "input": [
      "rangeset = train.shape[1]\n",
      "for i in range(rangeset):\n",
      "    #if type(sorted(train[:,i],reverse=True)[1]) is str:\n",
      "    if any(type(x) is str for x in train[:,i]) or any(type(x) is str for x in test[:,i]):\n",
      "        train[:,i][train[:,i]==0] = 'zzz'\n",
      "        test[:,i][test[:,i]==0] = 'zzz'\n",
      "        lbl = preprocessing.LabelEncoder()\n",
      "        lbl.fit(list(train[:,i]) + list(test[:,i]))\n",
      "        train[:,i] = lbl.transform(train[:,i])\n",
      "        test[:,i] = lbl.transform(test[:,i])\n",
      "        \"\"\"encoder = preprocessing.OneHotEncoder()\n",
      "        combined = [list(train[:,1]),list(test[:,1])]\n",
      "        encoder.fit(combined)\n",
      "        train[:,i] = encoder.transform([train[:,i]])\n",
      "        test[:,i] = encoder.transform([test[:,i]])\"\"\""
     ],
     "language": "python",
     "metadata": {},
     "outputs": [],
     "prompt_number": 19
    },
    {
     "cell_type": "code",
     "collapsed": false,
     "input": [
      "print(train[0:5,:])\n",
      "\n",
      "print(test[0:5,:])"
     ],
     "language": "python",
     "metadata": {},
     "outputs": [
      {
       "output_type": "stream",
       "stream": "stdout",
       "text": [
        "[[41L 0L 0L ..., 4L 3L 0.0]\n",
        " [41L 0L 0L ..., 4L 3L 0.0]\n",
        " [41L 0L 0L ..., 4L 3L 0.0]\n",
        " [41L 0L 0L ..., 4L 3L 0.0]\n",
        " [41L 0L 0L ..., 4L 3L 0.0]]\n",
        "[[41L 0L 0L ..., 4L 3L 0.0]\n",
        " [41L 0L 0L ..., 4L 3L 0.0]\n",
        " [41L 0L 0L ..., 4L 3L 0.0]\n",
        " [41L 0L 0L ..., 4L 3L 0.0]\n",
        " [41L 0L 0L ..., 4L 3L 0.0]]\n"
       ]
      }
     ],
     "prompt_number": 20
    },
    {
     "cell_type": "code",
     "collapsed": false,
     "input": [
      "# object array to float\n",
      "train = train.astype(float)\n",
      "test = test.astype(float)\n",
      "\n",
      "# i like to train on log(1+x) for RMSLE ;) \n",
      "# The choice is yours :)\n",
      "label_log = np.log1p(labels)"
     ],
     "language": "python",
     "metadata": {},
     "outputs": [],
     "prompt_number": 21
    },
    {
     "cell_type": "code",
     "collapsed": false,
     "input": [
      "X_train, X_test, y_train, y_test = cross_validation.train_test_split(train, label_log, test_size = 0.2, random_state = 0)"
     ],
     "language": "python",
     "metadata": {},
     "outputs": [],
     "prompt_number": 22
    },
    {
     "cell_type": "code",
     "collapsed": false,
     "input": [
      "#RMSLE error function\n",
      "import math\n",
      "\n",
      "#A function to calculate Root Mean Squared Logarithmic Error (RMSLE)\n",
      "def rmsle(y, y_pred):\n",
      "\tassert len(y) == len(y_pred)\n",
      "\tterms_to_sum = [(math.log(y_pred[i] + 1) - math.log(y[i] + 1)) ** 2.0 for i,pred in enumerate(y_pred)]\n",
      "\treturn (sum(terms_to_sum) * (1.0/len(y))) ** 0.5\n",
      "\n",
      "from sklearn.metrics import make_scorer\n",
      "\n",
      "custom_score = make_scorer(rmsle,False)"
     ],
     "language": "python",
     "metadata": {},
     "outputs": [],
     "prompt_number": 23
    },
    {
     "cell_type": "code",
     "collapsed": false,
     "input": [
      "\"\"\"# sci-kit random forests\n",
      "\n",
      "parameters = {'n_estimators': [1000] }\n",
      "\n",
      "model = RandomForestRegressor(n_estimators=100)\n",
      "\n",
      "#model = GridSearchCV(estimator= rfr, param_grid=parameters, )\n",
      "#model.fit(X_train, y_train)\n",
      "model.fit(train,label_log)\"\"\""
     ],
     "language": "python",
     "metadata": {},
     "outputs": [
      {
       "metadata": {},
       "output_type": "pyout",
       "prompt_number": 24,
       "text": [
        "\"# sci-kit random forests\\n\\nparameters = {'n_estimators': [1000] }\\n\\nmodel = RandomForestRegressor(n_estimators=100)\\n\\n#model = GridSearchCV(estimator= rfr, param_grid=parameters, )\\n#model.fit(X_train, y_train)\\nmodel.fit(train,label_log)\""
       ]
      }
     ],
     "prompt_number": 24
    },
    {
     "cell_type": "code",
     "collapsed": false,
     "input": [
      "# xgboost random forest model\n",
      "\n",
      "params = {}\n",
      "params[\"objective\"] = \"reg:linear\"\n",
      "params[\"eta\"] = 0.1\n",
      "params[\"min_child_weight\"] = 5\n",
      "params[\"subsample\"] = 1.0\n",
      "params[\"scale_pos_weight\"] = 1.0\n",
      "params[\"silent\"] = 1\n",
      "params[\"max_depth\"] = 7\n",
      "\n",
      "plst = list(params.items())\n",
      "\n",
      "xgtrain = xgb.DMatrix(X_train, label = y_train)\n",
      "xgtest = xgb.DMatrix(X_test)\n",
      "#xgtrain = xgb.DMatrix(train, label=label_log)\n",
      "#xgtest = xgb.DMatrix(test)\n",
      "\n",
      "num_rounds = 500\n",
      "model = xgb.train(plst, xgtrain, num_rounds)\n"
     ],
     "language": "python",
     "metadata": {},
     "outputs": [],
     "prompt_number": 25
    },
    {
     "cell_type": "code",
     "collapsed": false,
     "input": [
      "#val_preds = np.expm1(model.predict(X_test))\n",
      "val_preds = np.expm1(model.predict(xgtest))\n",
      "norm_labels = np.expm1(y_test)\n",
      "score_val = rmsle(norm_labels,val_preds)\n",
      "print 'Baseline score is 0.207 with label features'\n",
      "print score_val"
     ],
     "language": "python",
     "metadata": {},
     "outputs": [
      {
       "output_type": "stream",
       "stream": "stdout",
       "text": [
        "Baseline score is 0.207 with label features\n",
        "0.209879227078\n"
       ]
      }
     ],
     "prompt_number": 26
    },
    {
     "cell_type": "code",
     "collapsed": false,
     "input": [
      "#preds = np.expm1(model.predict(test))\n",
      "preds = np.expm1(model.predict(xgtest))"
     ],
     "language": "python",
     "metadata": {},
     "outputs": [],
     "prompt_number": 39
    },
    {
     "cell_type": "code",
     "collapsed": false,
     "input": [
      "preds = pd.DataFrame({\"id\": idx, \"cost\": preds})"
     ],
     "language": "python",
     "metadata": {},
     "outputs": [],
     "prompt_number": 40
    },
    {
     "cell_type": "code",
     "collapsed": false,
     "input": [
      "preds.to_csv('benchmark.csv', index=False)"
     ],
     "language": "python",
     "metadata": {},
     "outputs": [],
     "prompt_number": 41
    },
    {
     "cell_type": "heading",
     "level": 1,
     "metadata": {},
     "source": [
      "Looking into the data."
     ]
    },
    {
     "cell_type": "markdown",
     "metadata": {},
     "source": [
      "An analysis into the relationships between the different data files:\n",
      "\n",
      "test_set is root\n",
      "\n",
      "*sheets with tube assembly ids*:  \n",
      "bill_of_materials; components for every tube assembly  \n",
      "specs; specifications for every tube assembly  \n",
      "tube; description for every tube, including spec id, size and bend information, end of tube info  \n",
      "\n",
      "\n",
      "\n",
      "*sheets without tube assembly ids with component ids*:\n",
      "* components; component type list summary \n",
      "\n",
      "comp_adaptor;  detailed component specs, adaptor type  \n",
      "comp_boss; detailed component specs, boss type  \n",
      "comp_elbow; detailed component specs, elbow type  \n",
      "comp_float; detailed component specs, float type  \n",
      "comp_hfl; detailed component specs, hfl type  \n",
      "comp_nut; detailed component specs, nut type  \n",
      "comp_other; detailed component specs, other type  \n",
      "comp_sleeve; detailed component specs, sleeve type  \n",
      "comp_straight; detailed component specs, straight type  \n",
      "comp_tee; detailed component specs, tee type  \n",
      "comp_threaded; detailed component specs, threaded type  \n",
      "\n",
      "\n",
      "*sheets without tube assembly ids with other ids*  \n",
      "tube_end_form; end of tube types, yes/no on forming  \n",
      "type_component; component type id with name  \n",
      "type_connection; connection type id (in some components) with name  \n",
      "type_end_form; end form id (in some components) with name  \n",
      "\n",
      "\n",
      "\n"
     ]
    }
   ],
   "metadata": {}
  }
 ]
}